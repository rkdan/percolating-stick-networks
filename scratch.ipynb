{
 "cells": [
  {
   "cell_type": "code",
   "execution_count": 1,
   "metadata": {},
   "outputs": [],
   "source": [
    "import percolating_network\n",
    "from percolating_network import Wire\n",
    "from percolating_network import WireNetwork"
   ]
  },
  {
   "cell_type": "code",
   "execution_count": 6,
   "metadata": {},
   "outputs": [
    {
     "name": "stdout",
     "output_type": "stream",
     "text": [
      "2.96848201751709\n",
      "93042\n"
     ]
    }
   ],
   "source": [
    "net = WireNetwork(128, 128, 27)\n",
    "from time import time\n",
    "start = time()\n",
    "res = net.percolate()\n",
    "stop = time()\n",
    "print(stop - start)\n",
    "print(res)"
   ]
  },
  {
   "cell_type": "code",
   "execution_count": 6,
   "metadata": {},
   "outputs": [
    {
     "data": {
      "text/plain": [
       "5.7017974853515625"
      ]
     },
     "execution_count": 6,
     "metadata": {},
     "output_type": "execute_result"
    }
   ],
   "source": [
    "\n",
    "373673/(256**2)"
   ]
  },
  {
   "cell_type": "code",
   "execution_count": 13,
   "metadata": {},
   "outputs": [
    {
     "data": {
      "text/plain": [
       "(0, 2.5)"
      ]
     },
     "execution_count": 13,
     "metadata": {},
     "output_type": "execute_result"
    }
   ],
   "source": [
    "list(net.clusters[0])[0].mid"
   ]
  },
  {
   "cell_type": "code",
   "execution_count": 20,
   "metadata": {},
   "outputs": [
    {
     "name": "stdout",
     "output_type": "stream",
     "text": [
      "489 µs ± 2.18 µs per loop (mean ± std. dev. of 7 runs, 1,000 loops each)\n"
     ]
    }
   ],
   "source": [
    "def function_test():\n",
    "    for i in range(10000):\n",
    "        second_function()\n",
    "\n",
    "def second_function():\n",
    "    a = 1\n",
    "    b = 2\n",
    "    c = 3\n",
    "\n",
    "%timeit function_test()"
   ]
  },
  {
   "cell_type": "code",
   "execution_count": 21,
   "metadata": {},
   "outputs": [
    {
     "name": "stdout",
     "output_type": "stream",
     "text": [
      "174 µs ± 1.35 µs per loop (mean ± std. dev. of 7 runs, 10,000 loops each)\n"
     ]
    }
   ],
   "source": [
    "def function_test2():\n",
    "    for i in range(10000):\n",
    "        a = 1\n",
    "        b = 2\n",
    "        c = 3\n",
    "\n",
    "%timeit function_test2()"
   ]
  },
  {
   "cell_type": "code",
   "execution_count": 26,
   "metadata": {},
   "outputs": [
    {
     "name": "stdout",
     "output_type": "stream",
     "text": [
      "[1, 2, 3, 4, 5]\n",
      "[2, 3, 4, 5]\n",
      "[2, 3, 4, 5]\n",
      "[2, 4, 5]\n",
      "[2, 4, 5]\n",
      "[2, 4]\n"
     ]
    }
   ],
   "source": [
    "a = [1,2,3,4,5]\n",
    "\n",
    "for i in a:\n",
    "    print(a)\n",
    "    if i == 2 or 4:\n",
    "        a.remove(i)\n",
    "    print(a)"
   ]
  },
  {
   "cell_type": "code",
   "execution_count": 31,
   "metadata": {},
   "outputs": [],
   "source": [
    "i, j = 0, 1\n",
    "neighbours = [\n",
    "    (i-1, j+1), (i, j+1), (i+1, j+1),\n",
    "    (i-1, j), (i, j), (i+1, j),\n",
    "    (i-1, j-1), (i, j-1), (i+1, j-1)\n",
    "]\n",
    "neighbours = [neighbour for neighbour in neighbours if not (neighbour[0]<0 or neighbour[1]<0)]"
   ]
  },
  {
   "cell_type": "code",
   "execution_count": 34,
   "metadata": {},
   "outputs": [],
   "source": [
    "a = [1,2,3,4]\n",
    "b = [5,6,7,8]\n",
    "c = [9,10,11,12]\n",
    "\n",
    "s = [a,b,c]"
   ]
  },
  {
   "cell_type": "code",
   "execution_count": 35,
   "metadata": {},
   "outputs": [
    {
     "data": {
      "text/plain": [
       "[1, 2, 3, 4, 5, 6, 7, 8, 9, 10, 11, 12]"
      ]
     },
     "execution_count": 35,
     "metadata": {},
     "output_type": "execute_result"
    }
   ],
   "source": [
    "import itertools\n",
    "\n",
    "list(itertools.chain.from_iterable(s))"
   ]
  },
  {
   "attachments": {},
   "cell_type": "markdown",
   "metadata": {},
   "source": [
    "### Speed Tests and scaling"
   ]
  },
  {
   "cell_type": "code",
   "execution_count": 1,
   "metadata": {},
   "outputs": [
    {
     "ename": "ModuleNotFoundError",
     "evalue": "No module named 'percolation_network'",
     "output_type": "error",
     "traceback": [
      "\u001b[0;31m---------------------------------------------------------------------------\u001b[0m",
      "\u001b[0;31mModuleNotFoundError\u001b[0m                       Traceback (most recent call last)",
      "Cell \u001b[0;32mIn[1], line 3\u001b[0m\n\u001b[1;32m      1\u001b[0m \u001b[39mimport\u001b[39;00m \u001b[39mtime\u001b[39;00m\n\u001b[0;32m----> 3\u001b[0m \u001b[39mimport\u001b[39;00m \u001b[39mpercolation_network\u001b[39;00m\n\u001b[1;32m      4\u001b[0m \u001b[39mfrom\u001b[39;00m \u001b[39mpercolation_network\u001b[39;00m \u001b[39mimport\u001b[39;00m WireNetwork\n\u001b[1;32m      5\u001b[0m \u001b[39mfrom\u001b[39;00m \u001b[39mpercolation_network\u001b[39;00m \u001b[39mimport\u001b[39;00m Wire\n",
      "\u001b[0;31mModuleNotFoundError\u001b[0m: No module named 'percolation_network'"
     ]
    }
   ],
   "source": [
    "import time\n",
    "\n",
    "import percolating_wires.percolation_network\n",
    "from percolation_network import WireNetwork\n",
    "from percolation_network import Wire\n",
    "import numpy as np\n",
    "\n",
    "import matplotlib.pyplot as plt"
   ]
  },
  {
   "cell_type": "code",
   "execution_count": 2,
   "metadata": {},
   "outputs": [
    {
     "ename": "KeyboardInterrupt",
     "evalue": "",
     "output_type": "error",
     "traceback": [
      "\u001b[0;31m---------------------------------------------------------------------------\u001b[0m",
      "\u001b[0;31mKeyboardInterrupt\u001b[0m                         Traceback (most recent call last)",
      "Cell \u001b[0;32mIn[2], line 2\u001b[0m\n\u001b[1;32m      1\u001b[0m net \u001b[39m=\u001b[39m WireNetwork(\u001b[39m256\u001b[39m, \u001b[39m256\u001b[39m, seed\u001b[39m=\u001b[39m\u001b[39m12\u001b[39m)\n\u001b[0;32m----> 2\u001b[0m result \u001b[39m=\u001b[39m net\u001b[39m.\u001b[39;49mpercolate()\n",
      "File \u001b[0;32m~/Research/Percolation/percolation_network.py:109\u001b[0m, in \u001b[0;36mWireNetwork.percolate\u001b[0;34m(self)\u001b[0m\n\u001b[1;32m    106\u001b[0m     \u001b[39mbreak\u001b[39;00m\n\u001b[1;32m    108\u001b[0m \u001b[39m# Merge all intercepting clusters\u001b[39;00m\n\u001b[0;32m--> 109\u001b[0m new_wire \u001b[39m=\u001b[39m \u001b[39mself\u001b[39;49m\u001b[39m.\u001b[39;49m_merge(intercept_clusters, new_wire)\n\u001b[1;32m    111\u001b[0m \u001b[39mself\u001b[39m\u001b[39m.\u001b[39mcoordinate_grid[(i, j)]\u001b[39m.\u001b[39mappend(new_wire)\n\u001b[1;32m    112\u001b[0m n \u001b[39m+\u001b[39m\u001b[39m=\u001b[39m \u001b[39m1\u001b[39m\n",
      "File \u001b[0;32m~/Research/Percolation/percolation_network.py:192\u001b[0m, in \u001b[0;36mWireNetwork._merge\u001b[0;34m(self, intercept_clusters, new_wire)\u001b[0m\n\u001b[1;32m    188\u001b[0m     \u001b[39mself\u001b[39m\u001b[39m.\u001b[39mclusters[intercept_clusters[\u001b[39m0\u001b[39m]]\u001b[39m.\u001b[39madd(new_wire)\n\u001b[1;32m    190\u001b[0m \u001b[39m# Create new cluster\u001b[39;00m\n\u001b[1;32m    191\u001b[0m \u001b[39melse\u001b[39;00m:\n\u001b[0;32m--> 192\u001b[0m     max_key \u001b[39m=\u001b[39m \u001b[39mmax\u001b[39;49m(\u001b[39mself\u001b[39;49m\u001b[39m.\u001b[39;49mclusters\u001b[39m.\u001b[39;49mkeys())\n\u001b[1;32m    193\u001b[0m     \u001b[39mself\u001b[39m\u001b[39m.\u001b[39mclusters[max_key\u001b[39m+\u001b[39m\u001b[39m1\u001b[39m] \u001b[39m=\u001b[39m {new_wire}\n\u001b[1;32m    194\u001b[0m     new_wire\u001b[39m.\u001b[39mcluster \u001b[39m=\u001b[39m max_key\u001b[39m+\u001b[39m\u001b[39m1\u001b[39m\n",
      "\u001b[0;31mKeyboardInterrupt\u001b[0m: "
     ]
    }
   ],
   "source": [
    "net = WireNetwork(256, 256, seed=12)\n",
    "result = net.percolate()"
   ]
  },
  {
   "cell_type": "code",
   "execution_count": 6,
   "metadata": {},
   "outputs": [],
   "source": [
    "\n",
    "seeds = np.random.choice(np.arange(0,100000), 3, replace=False)\n",
    "sizes = [2,4,8,16,32,36,40,48,64,96,128]\n",
    "times = np.zeros((len(sizes), len(seeds)))\n",
    "for n, size in enumerate(sizes):\n",
    "    for m, seed in enumerate(seeds):\n",
    "        start = time.time()\n",
    "        net = WireNetwork(size, size, seed=seed)\n",
    "        result = net.percolate()\n",
    "        stop = time.time()\n",
    "        times[n,m] = (stop-start)*1000\n",
    "\n",
    "# print(f\"{np.array(times).mean()*1000:.2f} ± {np.array(times).std()*1000:.2f}\")"
   ]
  },
  {
   "cell_type": "code",
   "execution_count": 7,
   "metadata": {},
   "outputs": [
    {
     "data": {
      "image/png": "[encoded data removed]",
      "text/plain": [
       "<Figure size 640x480 with 1 Axes>"
      ]
     },
     "metadata": {},
     "output_type": "display_data"
    }
   ],
   "source": [
    "import scipy.optimize as opt\n",
    "\n",
    "mean_times = times.mean(axis=1)\n",
    "std_times = times.std(axis=1)\n",
    "\n",
    "def fit(x, a, b):\n",
    "    return a*(x**b)\n",
    "\n",
    "popt, pcov = opt.curve_fit(fit, sizes, mean_times)\n",
    "\n",
    "X = np.linspace(1,168,1000)\n",
    "Y = fit(X, *popt)\n",
    "\n",
    "plt.plot(np.array(sizes), mean_times, marker='o', ls='')\n",
    "plt.plot(X, Y, 'r')\n",
    "plt.xlabel(\"Target size\")\n",
    "plt.ylabel(\"Average time to Percolation (s)\")\n",
    "plt.show()"
   ]
  },
  {
   "cell_type": "code",
   "execution_count": 8,
   "metadata": {},
   "outputs": [
    {
     "name": "stdout",
     "output_type": "stream",
     "text": [
      "[0.03924039 2.58806786]\n"
     ]
    }
   ],
   "source": [
    "print(popt)"
   ]
  },
  {
   "attachments": {},
   "cell_type": "markdown",
   "metadata": {},
   "source": [
    "So time grows ~ $S^{2.5}$"
   ]
  },
  {
   "cell_type": "code",
   "execution_count": 7,
   "metadata": {},
   "outputs": [
    {
     "ename": "IndexError",
     "evalue": "list index out of range",
     "output_type": "error",
     "traceback": [
      "\u001b[0;31m---------------------------------------------------------------------------\u001b[0m",
      "\u001b[0;31mIndexError\u001b[0m                                Traceback (most recent call last)",
      "Cell \u001b[0;32mIn[7], line 2\u001b[0m\n\u001b[1;32m      1\u001b[0m i \u001b[39m=\u001b[39m []\n\u001b[0;32m----> 2\u001b[0m i[\u001b[39m-\u001b[39;49m\u001b[39m1\u001b[39;49m]\n",
      "\u001b[0;31mIndexError\u001b[0m: list index out of range"
     ]
    }
   ],
   "source": [
    "i = []\n",
    "i[-1]"
   ]
  },
  {
   "cell_type": "code",
   "execution_count": 2,
   "metadata": {},
   "outputs": [
    {
     "name": "stdout",
     "output_type": "stream",
     "text": [
      "         17979473 function calls in 19.536 seconds\n",
      "\n",
      "   Ordered by: cumulative time\n",
      "\n",
      "   ncalls  tottime  percall  cumtime  percall filename:lineno(function)\n",
      "        1    0.000    0.000   19.536   19.536 {built-in method builtins.exec}\n",
      "        1    0.000    0.000   19.536   19.536 <string>:1(<module>)\n",
      "        1    1.679    1.679   19.536   19.536 percolating_network.py:48(percolate)\n",
      "   373674    6.654    0.000    9.642    0.000 percolating_network.py:124(_get_intercepts)\n",
      "   373674    2.057    0.000    3.686    0.000 percolating_network.py:99(_get_neighbours)\n",
      "   373673    1.544    0.000    2.920    0.000 percolating_network.py:151(_merge)\n",
      "  9540255    2.861    0.000    2.861    0.000 percolating_network.py:234(do_intersect)\n",
      "    83295    1.315    0.000    1.315    0.000 {method 'union' of 'set' objects}\n",
      "  1121022    1.185    0.000    1.185    0.000 {method 'uniform' of 'numpy.random.mtrand.RandomState' objects}\n",
      "   373674    1.057    0.000    1.057    0.000 percolating_network.py:119(<listcomp>)\n",
      "   373674    0.552    0.000    0.552    0.000 percolating_network.py:114(<listcomp>)\n",
      "  1121022    0.304    0.000    0.304    0.000 {built-in method numpy.array}\n",
      "   373674    0.040    0.000    0.101    0.000 percolating_network.py:143(sort_shit)\n",
      "   373674    0.064    0.000    0.064    0.000 percolating_network.py:200(__init__)\n",
      "   955920    0.064    0.000    0.064    0.000 {method 'add' of 'set' objects}\n",
      "   373674    0.060    0.000    0.060    0.000 {built-in method builtins.sorted}\n",
      "   747348    0.035    0.000    0.035    0.000 {built-in method math.floor}\n",
      "   673869    0.024    0.000    0.024    0.000 {built-in method builtins.len}\n",
      "   373674    0.021    0.000    0.021    0.000 {built-in method from_iterable}\n",
      "   373673    0.020    0.000    0.020    0.000 {method 'append' of 'list' objects}\n",
      "        1    0.000    0.000    0.000    0.000 {method 'disable' of '_lsprof.Profiler' objects}\n",
      "\n",
      "\n"
     ]
    }
   ],
   "source": [
    "import cProfile\n",
    "import percolating_network\n",
    "from percolating_network import WireNetwork\n",
    "from percolating_network import Wire\n",
    "\n",
    "net = WireNetwork(256,256,27)\n",
    "net.percolate()\n",
    "\n",
    "cProfile.run('net.percolate()', sort='cumtime')"
   ]
  },
  {
   "cell_type": "code",
   "execution_count": 4,
   "metadata": {},
   "outputs": [
    {
     "name": "stdout",
     "output_type": "stream",
     "text": [
      "13.2 s ± 235 ms per loop (mean ± std. dev. of 7 runs, 1 loop each)\n"
     ]
    }
   ],
   "source": [
    "%%timeit\n",
    "net = WireNetwork(256,256,27)\n",
    "net.percolate()"
   ]
  },
  {
   "cell_type": "code",
   "execution_count": 10,
   "metadata": {},
   "outputs": [
    {
     "name": "stdout",
     "output_type": "stream",
     "text": [
      "879 ns ± 1.63 ns per loop (mean ± std. dev. of 7 runs, 1,000,000 loops each)\n"
     ]
    }
   ],
   "source": [
    "def orientation(p, q, r) -> int:\n",
    "    val = ((q[1] - p[1]) * (r[0] - q[0])) - ((q[0] - p[0]) * (r[1] - q[1]))\n",
    "    if (val > 0):\n",
    "        return 1\n",
    "    elif (val < 0):\n",
    "        return 2\n",
    "    else:\n",
    "        return 0\n",
    "  \n",
    "def do_intersect(p1, q1, p2, q2) -> bool:\n",
    "    o1 = orientation(p1, q1, p2)\n",
    "    o2 = orientation(p1, q1, q2)\n",
    "    o3 = orientation(p2, q2, p1)\n",
    "    o4 = orientation(p2, q2, q1)\n",
    "  \n",
    "    if ((o1 != o2) and (o3 != o4)):\n",
    "        return True\n",
    "    return False\n",
    "    \n",
    "\n",
    "%timeit do_intersect([0,0], [2,0], [1,1],[1,-2])"
   ]
  },
  {
   "cell_type": "code",
   "execution_count": 11,
   "metadata": {},
   "outputs": [
    {
     "name": "stdout",
     "output_type": "stream",
     "text": [
      "1.15 µs ± 1.41 ns per loop (mean ± std. dev. of 7 runs, 1,000,000 loops each)\n"
     ]
    }
   ],
   "source": [
    "import math\n",
    "class Point:\n",
    "    def __init__(self,x,y):\n",
    "        self.x = x\n",
    "        self.y = y\n",
    "        \n",
    "def solve(p1,q1,p2,q2):\n",
    "    dx1=p1[0]-q1[0]\n",
    "    dy1=p1[1]-q1[1]\n",
    "    dx2=p2[0]-q2[0]\n",
    "    dy2=p2[1]-q2[1]\n",
    "    \n",
    "    m1=(dy1)/(dx1) if dx1 != 0 else math.inf\n",
    "    m2=(dy2)/(dx2) if dx2 != 0 else math.inf\n",
    "    \n",
    "    c1 = p1[1] - m1*p1[0]\n",
    "    c2 = p2[1] - m2*p2[0]\n",
    "       \n",
    "\n",
    "    xRes = (c2-c1)/(m1-m2)\n",
    "    yRes = (m1*c2-m2*c1)/(m1-m2)\n",
    "    \n",
    "    if xRes in range(min(p1[0],p2[0],q1[0],q2[0]),max(p1[0],p2[0],q1[0],q2[0])+1):\n",
    "        if yRes in range(min(p1[1],p2[1],q1[1],q2[1]),max(p1[1],p2[1],q1[1],q2[1])+1):\n",
    "            return True\n",
    "    else:\n",
    "        return False\n",
    "          \n",
    "p1=(10,0)\n",
    "q1=(0,10)\n",
    "p2=(0,0)\n",
    "q2=(10,10)\n",
    "%timeit solve(p1,q1,p2,q2)"
   ]
  },
  {
   "cell_type": "code",
   "execution_count": 4,
   "metadata": {},
   "outputs": [
    {
     "data": {
      "text/plain": [
       "8"
      ]
     },
     "execution_count": 4,
     "metadata": {},
     "output_type": "execute_result"
    }
   ],
   "source": [
    "from joblib import Parallel, delayed\n",
    "import multiprocessing\n",
    "\n",
    "multiprocessing.cpu_count()"
   ]
  },
  {
   "cell_type": "code",
   "execution_count": 5,
   "metadata": {},
   "outputs": [
    {
     "data": {
      "text/plain": [
       "int"
      ]
     },
     "execution_count": 5,
     "metadata": {},
     "output_type": "execute_result"
    }
   ],
   "source": [
    "type(1)"
   ]
  },
  {
   "cell_type": "code",
   "execution_count": 5,
   "metadata": {},
   "outputs": [
    {
     "name": "stdout",
     "output_type": "stream",
     "text": [
      "53.01799201965332\n"
     ]
    }
   ],
   "source": [
    "import numpy as np\n",
    "seeds = np.random.choice(np.arange(0,100000), 512, replace=False)\n",
    "sizes = [64]\n",
    "results = np.zeros((len(sizes), len(seeds)))\n",
    "\n",
    "def job(size, seed):\n",
    "    net = WireNetwork(size, size, seed=seed)\n",
    "    return net.percolate()\n",
    "import time\n",
    "\n",
    "start = time.time()\n",
    "for j, size in enumerate(sizes):\n",
    "    results [j,:] = Parallel(n_jobs=8)(delayed(job)(size, seed) for seed in seeds)\n",
    "    # for i, seed in enumerate(seeds):\n",
    "    #     net = WireNetwork(size, size, seed=seed)\n",
    "    #     results[j,i] = net.percolate()\n",
    "stop = time.time()\n",
    "print(stop - start)"
   ]
  },
  {
   "cell_type": "code",
   "execution_count": 7,
   "metadata": {},
   "outputs": [
    {
     "data": {
      "text/plain": [
       "array([5.64453077])"
      ]
     },
     "execution_count": 7,
     "metadata": {},
     "output_type": "execute_result"
    }
   ],
   "source": [
    "results.mean(axis=1)/np.square(sizes)"
   ]
  },
  {
   "cell_type": "code",
   "execution_count": 218,
   "metadata": {},
   "outputs": [],
   "source": [
    "from scipy.signal import poisson\n",
    "\n",
    "R_nl = np.zeros(1000)\n",
    "for n in results:\n",
    "    for j in range(0, len(R_nl)):\n",
    "        if j >= n:\n",
    "            R_nl[j] += 1/len(results)\n",
    "\n",
    "N = np.linspace(0,12,100000)\n",
    "mu = N * 25\n",
    "R_N = []\n",
    "for n in range(0,1000):\n",
    "    pmf = poisson.pmf(n, mu)\n",
    "\n",
    "    R = pmf * R_nl[n]\n",
    "\n",
    "    R_N.append(R)\n",
    "\n",
    "R_N = np.array(R_N).sum(axis=0)"
   ]
  },
  {
   "cell_type": "code",
   "execution_count": 222,
   "metadata": {},
   "outputs": [
    {
     "name": "stdout",
     "output_type": "stream",
     "text": [
      "1000\n"
     ]
    },
    {
     "data": {
      "image/png": "[encoded data removed]",
      "text/plain": [
       "<Figure size 640x480 with 1 Axes>"
      ]
     },
     "metadata": {},
     "output_type": "display_data"
    }
   ],
   "source": [
    "plt.plot(R_nl)\n",
    "plt.xlim(0,500)\n",
    "print(len(R_nl))"
   ]
  },
  {
   "cell_type": "code",
   "execution_count": 228,
   "metadata": {},
   "outputs": [],
   "source": []
  },
  {
   "cell_type": "code",
   "execution_count": 236,
   "metadata": {},
   "outputs": [
    {
     "data": {
      "text/plain": [
       "<matplotlib.lines.Line2D at 0x2b3e3dee0>"
      ]
     },
     "execution_count": 236,
     "metadata": {},
     "output_type": "execute_result"
    },
    {
     "data": {
      "image/png": "[encoded data removed]",
      "text/plain": [
       "<Figure size 640x480 with 1 Axes>"
      ]
     },
     "metadata": {},
     "output_type": "display_data"
    }
   ],
   "source": [
    "R_N = np.array(R_N)\n",
    "plt.plot(N, R_N.sum(axis=0))\n",
    "plt.axhline(0.5)\n",
    "plt.axvline(5.62)\n",
    "# plt.xlim(0,2)"
   ]
  },
  {
   "cell_type": "code",
   "execution_count": 70,
   "metadata": {},
   "outputs": [],
   "source": [
    "import itertools\n",
    "\n",
    "wires = list(itertools.chain.from_iterable(net.coordinate_grid.values()))"
   ]
  },
  {
   "cell_type": "code",
   "execution_count": 2,
   "metadata": {},
   "outputs": [],
   "source": [
    "import matplotlib.pyplot as plt"
   ]
  },
  {
   "cell_type": "code",
   "execution_count": 51,
   "metadata": {},
   "outputs": [
    {
     "ename": "TypeError",
     "evalue": "unsupported operand type(s) for /: 'list' and 'int'",
     "output_type": "error",
     "traceback": [
      "\u001b[0;31m---------------------------------------------------------------------------\u001b[0m",
      "\u001b[0;31mTypeError\u001b[0m                                 Traceback (most recent call last)",
      "Cell \u001b[0;32mIn[51], line 1\u001b[0m\n\u001b[0;32m----> 1\u001b[0m results10x10\u001b[39m/\u001b[39;49m\u001b[39m100\u001b[39;49m\n",
      "\u001b[0;31mTypeError\u001b[0m: unsupported operand type(s) for /: 'list' and 'int'"
     ]
    }
   ],
   "source": [
    "results10x10/100"
   ]
  },
  {
   "cell_type": "code",
   "execution_count": 2,
   "metadata": {},
   "outputs": [
    {
     "ename": "NameError",
     "evalue": "name 'np' is not defined",
     "output_type": "error",
     "traceback": [
      "\u001b[0;31m---------------------------------------------------------------------------\u001b[0m",
      "\u001b[0;31mNameError\u001b[0m                                 Traceback (most recent call last)",
      "Cell \u001b[0;32mIn[2], line 7\u001b[0m\n\u001b[1;32m      5\u001b[0m yes \u001b[39m=\u001b[39m []\n\u001b[1;32m      6\u001b[0m \u001b[39m# for count in [2,4,8,16,32,64,128,256,512]:\u001b[39;00m\n\u001b[0;32m----> 7\u001b[0m seeds \u001b[39m=\u001b[39m np\u001b[39m.\u001b[39mrandom\u001b[39m.\u001b[39mchoice(np\u001b[39m.\u001b[39marange(\u001b[39m0\u001b[39m,\u001b[39m100000\u001b[39m), \u001b[39m8\u001b[39m, replace\u001b[39m=\u001b[39m\u001b[39mFalse\u001b[39;00m)\n\u001b[1;32m      8\u001b[0m sizes \u001b[39m=\u001b[39m [\u001b[39m8\u001b[39m,\u001b[39m16\u001b[39m,\u001b[39m32\u001b[39m,\u001b[39m36\u001b[39m]\n\u001b[1;32m      9\u001b[0m results \u001b[39m=\u001b[39m np\u001b[39m.\u001b[39mzeros((\u001b[39mlen\u001b[39m(sizes), \u001b[39mlen\u001b[39m(seeds)))\n",
      "\u001b[0;31mNameError\u001b[0m: name 'np' is not defined"
     ]
    }
   ],
   "source": [
    "import time\n",
    "from joblib import Parallel, delayed\n",
    "import multiprocessing\n",
    "\n",
    "yes = []\n",
    "# for count in [2,4,8,16,32,64,128,256,512]:\n",
    "seeds = np.random.choice(np.arange(0,100000), 8, replace=False)\n",
    "sizes = [8,16,32,36]\n",
    "results = np.zeros((len(sizes), len(seeds)))\n",
    "\n",
    "def job(size, seed):\n",
    "    net = WireNetwork(size, size, seed=seed)\n",
    "    return net.percolate()\n",
    "start = time.time()\n",
    "for j, size in enumerate(sizes):\n",
    "    results [j,:] = Parallel(n_jobs=8)(delayed(job)(size, seed) for seed in seeds)\n",
    "stop = time.time()\n",
    "print(stop - start)"
   ]
  },
  {
   "cell_type": "code",
   "execution_count": 35,
   "metadata": {},
   "outputs": [],
   "source": [
    "import scipy.optimize as opt\n",
    "\n",
    "def line(x,a,b):\n",
    "    return a*x + b\n",
    "\n"
   ]
  },
  {
   "cell_type": "code",
   "execution_count": 37,
   "metadata": {},
   "outputs": [
    {
     "data": {
      "text/plain": [
       "[<matplotlib.lines.Line2D at 0x14f0c17c0>]"
      ]
     },
     "execution_count": 37,
     "metadata": {},
     "output_type": "execute_result"
    },
    {
     "data": {
      "image/png": "[encoded data removed]",
      "text/plain": [
       "<Figure size 640x480 with 1 Axes>"
      ]
     },
     "metadata": {},
     "output_type": "display_data"
    }
   ],
   "source": [
    "res = [16,32,64,128,256]\n",
    "dat = [5.15,8,14.7,25.8,49.6]\n",
    "\n",
    "popt, pcov = opt.curve_fit(line, res, dat)\n",
    "\n",
    "X = np.linspace(0,10000,10000)\n",
    "Y = line(X, *popt)\n",
    "\n",
    "plt.plot(res, dat, ls='', marker='o')\n",
    "plt.plot(X, Y)\n",
    "# plt.xlim(0,1000)"
   ]
  },
  {
   "cell_type": "code",
   "execution_count": 41,
   "metadata": {},
   "outputs": [
    {
     "data": {
      "text/plain": [
       "2.5663100358175948"
      ]
     },
     "execution_count": 41,
     "metadata": {},
     "output_type": "execute_result"
    }
   ],
   "source": [
    "line(50000, *popt)/3600"
   ]
  },
  {
   "cell_type": "code",
   "execution_count": 43,
   "metadata": {},
   "outputs": [
    {
     "data": {
      "text/plain": [
       "array([  8,  16,  24,  32,  40,  48,  56,  64,  72,  80,  88,  96, 104,\n",
       "       112, 120])"
      ]
     },
     "execution_count": 43,
     "metadata": {},
     "output_type": "execute_result"
    }
   ],
   "source": [
    "np.arange(8,128,8)"
   ]
  },
  {
   "cell_type": "code",
   "execution_count": 16,
   "metadata": {},
   "outputs": [
    {
     "name": "stdout",
     "output_type": "stream",
     "text": [
      "27\n",
      "14\n",
      "78\n",
      "24\n",
      "83\n",
      "1\n",
      "29\n",
      "70\n",
      "96\n",
      "85\n"
     ]
    }
   ],
   "source": [
    "import numpy as np\n",
    "\n",
    "def set_seed(seed=32):\n",
    "    np.random.seed(seed)\n",
    "\n",
    "def get_seeds(N):\n",
    "    seeds = np.random.choice(np.arange(0,10000000), N, replace=False)\n",
    "    return seeds\n",
    "\n",
    "def choose(seeds):\n",
    "    for seed in seeds:\n",
    "        set_seed(seed)\n",
    "        print(np.random.randint(0,100))\n",
    "\n",
    "set_seed()\n",
    "seeds = get_seeds(10)\n",
    "choose(seeds)\n"
   ]
  },
  {
   "attachments": {},
   "cell_type": "markdown",
   "metadata": {},
   "source": [
    "# 2D Analysis"
   ]
  },
  {
   "cell_type": "code",
   "execution_count": 1,
   "metadata": {},
   "outputs": [],
   "source": [
    "import numpy as np\n",
    "import matplotlib.pyplot as plt"
   ]
  },
  {
   "cell_type": "code",
   "execution_count": 26,
   "metadata": {},
   "outputs": [],
   "source": [
    "results1 = np.load('../Results/Nseeds-1024_sizes-9_20230310_165343.npy')\n",
    "results2 = np.load('../Results/Nseeds-1024_sizes-9_20230310_171544.npy')\n",
    "results3 = np.load('../Results/Nseeds-1024_sizes-9_20230310_175222.npy')\n",
    "results4 = np.load('../Results/Nseeds-2048_sizes-9_20230310_180657.npy')\n",
    "results5 = np.load('../Results/Nseeds-2048_sizes-9_20230310_182007.npy')\n",
    "results6 = np.load('../Results/Nseeds-6144_sizes-9_20230310_185026.npy')\n",
    "results7 = np.load('../Results/Nseeds-12288_sizes-9_20230310_203705.npy')\n",
    "results8 = np.load('../Results/Nseeds-12288_sizes-9_20230310_214715.npy')\n",
    "results9 = np.load('../Results/Nseeds-49152_sizes-9_20230311_151644.npy')\n",
    "results10 = np.load('../Results/Nseeds-12288_sizes-9_20230311_160912.npy')\n",
    "results = np.concatenate([results1, results2, results3, results4, results5, results6, results7,\n",
    "                          results8, results9, results10], axis=1)\n",
    "size = np.array([32,36,40,48,64])\n",
    "results = results[4:,:]"
   ]
  },
  {
   "cell_type": "code",
   "execution_count": 4,
   "metadata": {},
   "outputs": [
    {
     "data": {
      "text/plain": [
       "[<matplotlib.lines.Line2D at 0x10f751f60>]"
      ]
     },
     "execution_count": 4,
     "metadata": {},
     "output_type": "execute_result"
    },
    {
     "data": {
      "image/png": "[encoded data removed]",
      "text/plain": [
       "<Figure size 640x480 with 1 Axes>"
      ]
     },
     "metadata": {},
     "output_type": "display_data"
    }
   ],
   "source": [
    "h0, edges0 = np.histogram(results[2]/16**2, bins=200, density=True)\n",
    "plt.plot(edges0[:-1], h0)\n",
    "h1, edges1 = np.histogram(results[-1]/64**2, bins=200, density=True)\n",
    "plt.plot(edges1[:-1], h1)"
   ]
  },
  {
   "cell_type": "code",
   "execution_count": 27,
   "metadata": {},
   "outputs": [
    {
     "data": {
      "text/plain": [
       "array([5.64266925, 5.64041219, 5.64192156, 5.63976474, 5.6386308 ])"
      ]
     },
     "execution_count": 27,
     "metadata": {},
     "output_type": "execute_result"
    }
   ],
   "source": [
    "\n",
    "results.mean(axis=1)/size**2"
   ]
  },
  {
   "cell_type": "code",
   "execution_count": 28,
   "metadata": {},
   "outputs": [
    {
     "data": {
      "image/png": "[encoded data removed]",
      "text/plain": [
       "<Figure size 640x480 with 1 Axes>"
      ]
     },
     "metadata": {},
     "output_type": "display_data"
    }
   ],
   "source": [
    "plt.errorbar(size, results.mean(axis=1)/size**2, marker='o', mfc='w')\n",
    "# plt.yscale('log')\n",
    "plt.xscale('log')"
   ]
  },
  {
   "cell_type": "code",
   "execution_count": 29,
   "metadata": {},
   "outputs": [
    {
     "ename": "KeyboardInterrupt",
     "evalue": "",
     "output_type": "error",
     "traceback": [
      "\u001b[0;31m---------------------------------------------------------------------------\u001b[0m",
      "\u001b[0;31mKeyboardInterrupt\u001b[0m                         Traceback (most recent call last)",
      "Cell \u001b[0;32mIn[29], line 12\u001b[0m\n\u001b[1;32m     10\u001b[0m     \u001b[39mfor\u001b[39;00m j \u001b[39min\u001b[39;00m \u001b[39mrange\u001b[39m(\u001b[39m0\u001b[39m, \u001b[39mlen\u001b[39m(R_nl)):\n\u001b[1;32m     11\u001b[0m         \u001b[39mif\u001b[39;00m j \u001b[39m>\u001b[39m\u001b[39m=\u001b[39m n:\n\u001b[0;32m---> 12\u001b[0m             R_nl[j] \u001b[39m+\u001b[39m\u001b[39m=\u001b[39m \u001b[39m1\u001b[39m\u001b[39m/\u001b[39m\u001b[39mlen\u001b[39;49m(result)\n\u001b[1;32m     14\u001b[0m N \u001b[39m=\u001b[39m np\u001b[39m.\u001b[39mlinspace(\u001b[39m5.62\u001b[39m,\u001b[39m5.68\u001b[39m,\u001b[39m10\u001b[39m)\n\u001b[1;32m     15\u001b[0m mu \u001b[39m=\u001b[39m N \u001b[39m*\u001b[39m (s\u001b[39m*\u001b[39m\u001b[39m*\u001b[39m\u001b[39m2\u001b[39m)\n",
      "\u001b[0;31mKeyboardInterrupt\u001b[0m: "
     ]
    }
   ],
   "source": [
    "from scipy.stats import poisson\n",
    "\n",
    "R_Ns = np.zeros((10,5))\n",
    "\n",
    "for i, s in enumerate(size):\n",
    "    result = results[i,:]\n",
    "\n",
    "    R_nl = np.zeros(int(max(result))*2)\n",
    "    for n in result:\n",
    "        for j in range(0, len(R_nl)):\n",
    "            if j >= n:\n",
    "                R_nl[j] += 1/len(result)\n",
    "\n",
    "    N = np.linspace(5.62,5.68,10)\n",
    "    mu = N * (s**2)\n",
    "    R_N = []\n",
    "    for n in range(0,len(R_nl)):\n",
    "        pmf = poisson.pmf(n, mu)\n",
    "\n",
    "        R = pmf * R_nl[n]\n",
    "\n",
    "        R_N.append(R)\n",
    "\n",
    "    R_N = np.array(R_N).sum(axis=0)\n",
    "\n",
    "    R_Ns[:,i] = R_N\n",
    "\n",
    "    print(f\"{s} done\")"
   ]
  },
  {
   "cell_type": "code",
   "execution_count": 6,
   "metadata": {},
   "outputs": [
    {
     "data": {
      "text/plain": [
       "array([0.51106033, 0.52514844, 0.54925852, 0.57161471, 0.5860988 ,\n",
       "       0.59502289, 0.59966718, 0.62058927, 0.6390304 ])"
      ]
     },
     "execution_count": 6,
     "metadata": {},
     "output_type": "execute_result"
    }
   ],
   "source": [
    "R_Ns.mean(axis=0)"
   ]
  },
  {
   "cell_type": "code",
   "execution_count": 16,
   "metadata": {},
   "outputs": [
    {
     "data": {
      "image/png": "[encoded data removed]",
      "text/plain": [
       "<Figure size 640x480 with 1 Axes>"
      ]
     },
     "metadata": {},
     "output_type": "display_data"
    }
   ],
   "source": [
    "for i in range(0,R_Ns.shape[1]):\n",
    "    R_N = R_Ns[:,i]\n",
    "    plt.plot(N, R_N, lw=1, c=[i/8,0,1-i/8])\n",
    "    plt.axhline(0.5, ls='--', c='k', lw=0.5)\n",
    "    plt.axvline(5.63726, ls='--', c='k', lw=0.5)\n",
    "    plt.xlim(5.6, 5.7)\n",
    "    plt.ylim(0.48,0.52)\n",
    "plt.grid()"
   ]
  },
  {
   "cell_type": "code",
   "execution_count": 68,
   "metadata": {},
   "outputs": [
    {
     "data": {
      "text/plain": [
       "array([0.50000136, 0.51229041, 0.52818833, 0.54295703, 0.55319905])"
      ]
     },
     "execution_count": 68,
     "metadata": {},
     "output_type": "execute_result"
    }
   ],
   "source": [
    "R_Ns[7120]"
   ]
  },
  {
   "cell_type": "code",
   "execution_count": 12,
   "metadata": {},
   "outputs": [
    {
     "name": "stdout",
     "output_type": "stream",
     "text": [
      "0.4999993718928469\n",
      "0.49999936672725753\n",
      "0.49999973089162186\n",
      "0.49999656115846625\n",
      "0.4999958752827457\n",
      "0.5000016726807643\n",
      "0.49999792395216003\n",
      "0.49999745135696727\n",
      "0.5000008425251372\n"
     ]
    }
   ],
   "source": [
    "def find_nearest(array, value):\n",
    "    array = np.asarray(array)\n",
    "    idx = (np.abs(array - value)).argmin()\n",
    "    err = np.abs(array[idx] - 0.5)\n",
    "    return idx, array[idx], err\n",
    "\n",
    "etas = []\n",
    "errs = []\n",
    "for i in range(9):\n",
    "    idx, val, err = find_nearest(R_Ns[:,i], 0.5)\n",
    "    print(val)\n",
    "    eta = N[idx]\n",
    "    etas.append(eta)\n",
    "    errs.append(err)"
   ]
  },
  {
   "cell_type": "code",
   "execution_count": 22,
   "metadata": {},
   "outputs": [
    {
     "data": {
      "text/plain": [
       "array([32, 36, 40, 48, 64])"
      ]
     },
     "execution_count": 22,
     "metadata": {},
     "output_type": "execute_result"
    }
   ],
   "source": [
    "size[4:]"
   ]
  },
  {
   "cell_type": "code",
   "execution_count": 23,
   "metadata": {},
   "outputs": [
    {
     "data": {
      "text/plain": [
       "[<matplotlib.lines.Line2D at 0x157488040>]"
      ]
     },
     "execution_count": 23,
     "metadata": {},
     "output_type": "execute_result"
    },
    {
     "data": {
      "image/png": "[encoded data removed]",
      "text/plain": [
       "<Figure size 640x480 with 1 Axes>"
      ]
     },
     "metadata": {},
     "output_type": "display_data"
    }
   ],
   "source": [
    "plt.plot(size[4:]**(-7/4), etas[4:], marker='o', c='b', mfc='w', ls='')"
   ]
  },
  {
   "cell_type": "code",
   "execution_count": 8,
   "metadata": {},
   "outputs": [],
   "source": [
    "from numba.experimental import jitclass"
   ]
  },
  {
   "cell_type": "code",
   "execution_count": 11,
   "metadata": {},
   "outputs": [],
   "source": [
    "from numba.experimental import jitclass\n",
    "from numba import types, typed, typeof\n",
    "\n",
    "class WireType(types.Type):\n",
    "    def __init__(self):\n",
    "        super(WireType, self).__init__(name='Wire')\n",
    "\n",
    "params = typed.Dict.empty(\n",
    "    key_type = \n",
    ")\n",
    "\n",
    "spec = [\n",
    "    ('start', types.UniTuple(types.float64, 2)),\n",
    "    ('mid', types.UniTuple(types.float64, 2)),\n",
    "    ('stop', types.UniTuple(types.float64, 2)),\n",
    "    ('cluster', types.int32),\n",
    "    ('coordinate_grid', t)\n",
    "]\n",
    "\n",
    "@jitclass(spec)\n",
    "class Wire:\n",
    "    def __init__(self, start, mid, stop, cluster=0):\n",
    "        self.start = start\n",
    "        self.mid = mid\n",
    "        self.stop = stop\n",
    "        self.cluster = cluster\n",
    "        self.coordinate_grid = {(s1, s2) : [] for s1 in range(10) for s2 in range(10)}\n",
    "\n",
    "wire = Wire((0.,0.), (0.,1.), (0.,2.), 0)"
   ]
  },
  {
   "cell_type": "code",
   "execution_count": 7,
   "metadata": {},
   "outputs": [
    {
     "name": "stdout",
     "output_type": "stream",
     "text": [
      "9.64 ns ± 0.0574 ns per loop (mean ± std. dev. of 7 runs, 100,000,000 loops each)\n"
     ]
    }
   ],
   "source": [
    "def first():\n",
    "    res = set()\n",
    "    for i in range(100):\n",
    "        if i % 5 == 0:\n",
    "            res.add(i)\n",
    "    return res\n",
    "\n",
    "%timeit first"
   ]
  },
  {
   "cell_type": "code",
   "execution_count": 8,
   "metadata": {},
   "outputs": [
    {
     "name": "stdout",
     "output_type": "stream",
     "text": [
      "9.66 ns ± 0.0603 ns per loop (mean ± std. dev. of 7 runs, 100,000,000 loops each)\n"
     ]
    }
   ],
   "source": [
    "def second():\n",
    "    res = set(i for i in range(100) if i%5==0)\n",
    "    return res\n",
    "\n",
    "%timeit second"
   ]
  },
  {
   "cell_type": "code",
   "execution_count": 11,
   "metadata": {},
   "outputs": [],
   "source": [
    "dic = {\n",
    "    0: {0,1},\n",
    "    1: {2,3,1},\n",
    "    2: {0,4,5}\n",
    "}"
   ]
  },
  {
   "cell_type": "code",
   "execution_count": 9,
   "metadata": {},
   "outputs": [
    {
     "ename": "KeyError",
     "evalue": "(0, 1)",
     "output_type": "error",
     "traceback": [
      "\u001b[0;31m---------------------------------------------------------------------------\u001b[0m",
      "\u001b[0;31mKeyError\u001b[0m                                  Traceback (most recent call last)",
      "Cell \u001b[0;32mIn[9], line 1\u001b[0m\n\u001b[0;32m----> 1\u001b[0m dic[\u001b[39m0\u001b[39;49m,\u001b[39m1\u001b[39;49m]\n",
      "\u001b[0;31mKeyError\u001b[0m: (0, 1)"
     ]
    }
   ],
   "source": [
    "dic[0,1]"
   ]
  },
  {
   "cell_type": "code",
   "execution_count": 13,
   "metadata": {},
   "outputs": [
    {
     "data": {
      "text/plain": [
       "{0, 1, 2, 3}"
      ]
     },
     "execution_count": 13,
     "metadata": {},
     "output_type": "execute_result"
    }
   ],
   "source": [
    "from operator import itemgetter\n",
    "set.union(*itemgetter(0,1)(dic))\n"
   ]
  },
  {
   "cell_type": "code",
   "execution_count": 8,
   "metadata": {},
   "outputs": [
    {
     "data": {
      "text/plain": [
       "(0.0, 11.0)"
      ]
     },
     "execution_count": 8,
     "metadata": {},
     "output_type": "execute_result"
    }
   ],
   "source": [
    "def line_intersection(line1, line2):\n",
    "    xdiff = (line1[0][0] - line1[1][0], line2[0][0] - line2[1][0])\n",
    "    ydiff = (line1[0][1] - line1[1][1], line2[0][1] - line2[1][1])\n",
    "\n",
    "    def det(a, b):\n",
    "        return a[0] * b[1] - a[1] * b[0]\n",
    "\n",
    "    div = det(xdiff, ydiff)\n",
    "    if div == 0:\n",
    "       raise Exception('lines do not intersect')\n",
    "\n",
    "    d = (det(*line1), det(*line2))\n",
    "    x = det(d, xdiff) / div\n",
    "    y = det(d, ydiff) / div\n",
    "    return x, y\n",
    "\n",
    "# line_intersection(((1,1),(3,1)), ((2,2),(2,0)))\n",
    "line_intersection(((0,2),(0,0)), ((10,11),(11,11)))"
   ]
  },
  {
   "cell_type": "code",
   "execution_count": 1,
   "metadata": {},
   "outputs": [],
   "source": [
    "from percolation import WireNetwork, percolate"
   ]
  },
  {
   "cell_type": "code",
   "execution_count": 2,
   "metadata": {},
   "outputs": [
    {
     "name": "stderr",
     "output_type": "stream",
     "text": [
      "/Users/rkd/Research/Percolation/venv/lib/python3.10/site-packages/numba/core/ir_utils.py:2147: NumbaPendingDeprecationWarning: \n",
      "Encountered the use of a type that is scheduled for deprecation: type 'reflected list' found for argument 'neighbouring_wires' of function 'get_intercepts'.\n",
      "\n",
      "For more information visit https://numba.readthedocs.io/en/stable/reference/deprecation.html#deprecation-of-reflection-for-list-and-set-types\n",
      "\n",
      "File \"percolation.py\", line 179:\n",
      "@jit(nopython=True, cache=True)\n",
      "def get_intercepts(neighbouring_wires: list, start, stop) -> list:\n",
      "^\n",
      "\n",
      "  warnings.warn(NumbaPendingDeprecationWarning(msg, loc=loc))\n",
      "/Users/rkd/Research/Percolation/percolating_wires/percolation.py:178: NumbaWarning: Cannot cache compiled function \"get_intercepts\" as it uses dynamic globals (such as ctypes pointers and large global arrays)\n",
      "  @jit(nopython=True, cache=True)\n"
     ]
    }
   ],
   "source": [
    "network = WireNetwork(64, 64, 27)\n",
    "n = percolate(network)\n"
   ]
  },
  {
   "cell_type": "code",
   "execution_count": 1,
   "metadata": {},
   "outputs": [
    {
     "data": {
      "text/plain": [
       "4096"
      ]
     },
     "execution_count": 1,
     "metadata": {},
     "output_type": "execute_result"
    }
   ],
   "source": [
    "64**2"
   ]
  },
  {
   "cell_type": "code",
   "execution_count": 4,
   "metadata": {},
   "outputs": [],
   "source": [
    "# import cProfile\n",
    "from percolation import WireNetwork, percolate\n",
    "\n",
    "network = WireNetwork(256, 256, 27)\n",
    "n = percolate(network)\n",
    "\n",
    "# cProfile.run('percolate(network)', sort='cumtime')"
   ]
  },
  {
   "cell_type": "code",
   "execution_count": 2,
   "metadata": {},
   "outputs": [],
   "source": [
    "from joblib import Parallel, delayed\n",
    "import multiprocessing\n",
    "from tqdm import tqdm\n",
    "import numpy as np"
   ]
  },
  {
   "cell_type": "code",
   "execution_count": 5,
   "metadata": {},
   "outputs": [],
   "source": [
    "def job(size: int, seed: int) -> int:\n",
    "    \"\"\"Function to parallelize running multiple seeds\n",
    "\n",
    "    Args:\n",
    "        size (int): The size of the network\n",
    "        seed (int): Random seed\n",
    "\n",
    "    Returns:\n",
    "        int: Critical number of wires to cause a spanning path from one side of\n",
    "            the network to the other.\n",
    "    \"\"\"\n",
    "    net = WireNetwork(size, size, seed=seed)\n",
    "\n",
    "    return percolate(net)"
   ]
  },
  {
   "cell_type": "code",
   "execution_count": 7,
   "metadata": {},
   "outputs": [
    {
     "name": "stderr",
     "output_type": "stream",
     "text": [
      "Running...: 100%|\u001b[32m██████████\u001b[0m| 760/760 [04:50<00:00,  2.62it/s]\n"
     ]
    }
   ],
   "source": [
    "import numpy as np\n",
    "import concurrent.futures\n",
    "from tqdm import tqdm\n",
    "import multiprocessing\n",
    "\n",
    "\n",
    "size = 128\n",
    "seed_count = 76 * 10\n",
    "total_seeds = np.arange(0, seed_count, dtype=int)\n",
    "results256 = np.zeros((seed_count))\n",
    "num_cores = multiprocessing.cpu_count()\n",
    "\n",
    "# Using ProcessPoolExecutor for asynchronous execution\n",
    "with concurrent.futures.ProcessPoolExecutor(max_workers=num_cores) as executor:\n",
    "    # Create a list to hold the futures\n",
    "    futures = [executor.submit(job, size, seed) for seed in total_seeds]\n",
    "\n",
    "    # Process the results as they complete\n",
    "    for future in tqdm(concurrent.futures.as_completed(futures), total=len(futures), ascii=\"░▒█\", colour='GREEN', desc=\"Running...\"):\n",
    "        index = total_seeds[futures.index(future)]\n",
    "        results256[index] = future.result()"
   ]
  },
  {
   "cell_type": "code",
   "execution_count": 11,
   "metadata": {},
   "outputs": [
    {
     "name": "stderr",
     "output_type": "stream",
     "text": [
      "Running...: 100%|\u001b[32m██████████\u001b[0m| 10/10 [00:12<00:00,  1.23s/it]\n"
     ]
    }
   ],
   "source": [
    "size = \n",
    "seed_count = 76*10\n",
    "total_seeds = np.arange(0, seed_count, dtype=int)\n",
    "results64 = np.zeros((seed_count))\n",
    "num_cores = multiprocessing.cpu_count()\n",
    "\n",
    "for i in tqdm(range(0, seed_count, num_cores), ascii=\"░▒█\", colour='GREEN', desc=\"Running...\"):\n",
    "    seeds = total_seeds[i:i+num_cores]\n",
    "    results64[i:i+num_cores] = Parallel(n_jobs=num_cores)(delayed(job)(size, seed) for seed in seeds)"
   ]
  },
  {
   "cell_type": "code",
   "execution_count": 12,
   "metadata": {},
   "outputs": [
    {
     "data": {
      "text/plain": [
       "5.6355642218338815"
      ]
     },
     "execution_count": 12,
     "metadata": {},
     "output_type": "execute_result"
    }
   ],
   "source": [
    "results64.mean()/(size**2)"
   ]
  },
  {
   "cell_type": "code",
   "execution_count": 13,
   "metadata": {},
   "outputs": [
    {
     "data": {
      "text/plain": [
       "[<matplotlib.lines.Line2D at 0x151d31f0bc50>]"
      ]
     },
     "execution_count": 13,
     "metadata": {},
     "output_type": "execute_result"
    },
    {
     "data": {
      "image/png": "[encoded data removed]",
      "text/plain": [
       "<Figure size 640x480 with 1 Axes>"
      ]
     },
     "metadata": {},
     "output_type": "display_data"
    }
   ],
   "source": [
    "# plot histogram of results\n",
    "import matplotlib.pyplot as plt\n",
    "import numpy as np\n",
    "\n",
    "h, edges = np.histogram(results/64**2, bins=30, density=True)\n",
    "\n",
    "plt.plot(edges[:-1], h)"
   ]
  },
  {
   "cell_type": "code",
   "execution_count": null,
   "metadata": {},
   "outputs": [],
   "source": []
  }
 ],
 "metadata": {
  "kernelspec": {
   "display_name": "venv",
   "language": "python",
   "name": "python3"
  },
  "language_info": {
   "codemirror_mode": {
    "name": "ipython",
    "version": 3
   },
   "file_extension": ".py",
   "mimetype": "text/x-python",
   "name": "python",
   "nbconvert_exporter": "python",
   "pygments_lexer": "ipython3",
   "version": "3.11.5"
  },
  "orig_nbformat": 4,
  "vscode": {
   "interpreter": {
    "hash": "a69a99d3196142513eba3d450eacd39ce2e507b9c8c256b9c1ad71eb33c9f5c3"
   }
  }
 },
 "nbformat": 4,
 "nbformat_minor": 2
}
